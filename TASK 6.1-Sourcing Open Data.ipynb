{
 "cells": [
  {
   "cell_type": "code",
   "execution_count": 1,
   "id": "e903b977-1a2e-46ab-b071-b7ba865c6275",
   "metadata": {},
   "outputs": [],
   "source": [
    "# Importing Libraries\n",
    "import  pandas as pd\n",
    "import numpy as ny\n",
    "import os"
   ]
  },
  {
   "cell_type": "code",
   "execution_count": 3,
   "id": "470b9fe0-ad41-48e5-b3b5-d3c0bf583f11",
   "metadata": {},
   "outputs": [],
   "source": [
    "# Creating a file path\n",
    "path = r'/Users/samarjitgehdu/Documents/Achievement 6/Gun Violence'"
   ]
  },
  {
   "cell_type": "code",
   "execution_count": 5,
   "id": "146ae2ba-ad72-403c-9b01-716b2298f3bc",
   "metadata": {},
   "outputs": [
    {
     "data": {
      "text/plain": [
       "'/Users/samarjitgehdu/Documents/Achievement 6/Gun Violence'"
      ]
     },
     "execution_count": 5,
     "metadata": {},
     "output_type": "execute_result"
    }
   ],
   "source": [
    "path"
   ]
  },
  {
   "cell_type": "code",
   "execution_count": 7,
   "id": "59e5e080-74bd-4373-b57c-22cce9c357c7",
   "metadata": {},
   "outputs": [],
   "source": [
    "# Importing the gun violence file\n",
    "df = pd.read_csv(os.path.join(path,'02 Data', 'Original Data', 'Gun_Violence_Data(2013-2018).csv'))"
   ]
  },
  {
   "cell_type": "code",
   "execution_count": 9,
   "id": "00d7c8ea-3401-4f6e-9fb0-9ea52ea6e9a1",
   "metadata": {},
   "outputs": [
    {
     "name": "stdout",
     "output_type": "stream",
     "text": [
      "<class 'pandas.core.frame.DataFrame'>\n",
      "RangeIndex: 239677 entries, 0 to 239676\n",
      "Data columns (total 29 columns):\n",
      " #   Column                       Non-Null Count   Dtype  \n",
      "---  ------                       --------------   -----  \n",
      " 0   incident_id                  239677 non-null  int64  \n",
      " 1   date                         239677 non-null  object \n",
      " 2   state                        239677 non-null  object \n",
      " 3   city_or_county               239677 non-null  object \n",
      " 4   address                      223180 non-null  object \n",
      " 5   n_killed                     239677 non-null  int64  \n",
      " 6   n_injured                    239677 non-null  int64  \n",
      " 7   incident_url                 239677 non-null  object \n",
      " 8   source_url                   239209 non-null  object \n",
      " 9   incident_url_fields_missing  239677 non-null  bool   \n",
      " 10  congressional_district       227733 non-null  float64\n",
      " 11  gun_stolen                   140179 non-null  object \n",
      " 12  gun_type                     140226 non-null  object \n",
      " 13  incident_characteristics     239351 non-null  object \n",
      " 14  latitude                     231754 non-null  float64\n",
      " 15  location_description         42089 non-null   object \n",
      " 16  longitude                    231754 non-null  float64\n",
      " 17  n_guns_involved              140226 non-null  float64\n",
      " 18  notes                        158660 non-null  object \n",
      " 19  participant_age              147379 non-null  object \n",
      " 20  participant_age_group        197558 non-null  object \n",
      " 21  participant_gender           203315 non-null  object \n",
      " 22  participant_name             117424 non-null  object \n",
      " 23  participant_relationship     15774 non-null   object \n",
      " 24  participant_status           212051 non-null  object \n",
      " 25  participant_type             214814 non-null  object \n",
      " 26  sources                      239068 non-null  object \n",
      " 27  state_house_district         200905 non-null  float64\n",
      " 28  state_senate_district        207342 non-null  float64\n",
      "dtypes: bool(1), float64(6), int64(3), object(19)\n",
      "memory usage: 51.4+ MB\n"
     ]
    }
   ],
   "source": [
    "df.info()"
   ]
  },
  {
   "cell_type": "code",
   "execution_count": 11,
   "id": "b45d6cfd-c7fa-4e16-884e-99e96b0b8da7",
   "metadata": {},
   "outputs": [
    {
     "data": {
      "text/html": [
       "<div>\n",
       "<style scoped>\n",
       "    .dataframe tbody tr th:only-of-type {\n",
       "        vertical-align: middle;\n",
       "    }\n",
       "\n",
       "    .dataframe tbody tr th {\n",
       "        vertical-align: top;\n",
       "    }\n",
       "\n",
       "    .dataframe thead th {\n",
       "        text-align: right;\n",
       "    }\n",
       "</style>\n",
       "<table border=\"1\" class=\"dataframe\">\n",
       "  <thead>\n",
       "    <tr style=\"text-align: right;\">\n",
       "      <th></th>\n",
       "      <th>incident_id</th>\n",
       "      <th>n_killed</th>\n",
       "      <th>n_injured</th>\n",
       "      <th>congressional_district</th>\n",
       "      <th>latitude</th>\n",
       "      <th>longitude</th>\n",
       "      <th>n_guns_involved</th>\n",
       "      <th>state_house_district</th>\n",
       "      <th>state_senate_district</th>\n",
       "    </tr>\n",
       "  </thead>\n",
       "  <tbody>\n",
       "    <tr>\n",
       "      <th>count</th>\n",
       "      <td>2.396770e+05</td>\n",
       "      <td>239677.000000</td>\n",
       "      <td>239677.000000</td>\n",
       "      <td>227733.000000</td>\n",
       "      <td>231754.000000</td>\n",
       "      <td>231754.000000</td>\n",
       "      <td>140226.000000</td>\n",
       "      <td>200905.000000</td>\n",
       "      <td>207342.00000</td>\n",
       "    </tr>\n",
       "    <tr>\n",
       "      <th>mean</th>\n",
       "      <td>5.593343e+05</td>\n",
       "      <td>0.252290</td>\n",
       "      <td>0.494007</td>\n",
       "      <td>8.001265</td>\n",
       "      <td>37.546598</td>\n",
       "      <td>-89.338348</td>\n",
       "      <td>1.372442</td>\n",
       "      <td>55.447132</td>\n",
       "      <td>20.47711</td>\n",
       "    </tr>\n",
       "    <tr>\n",
       "      <th>std</th>\n",
       "      <td>2.931287e+05</td>\n",
       "      <td>0.521779</td>\n",
       "      <td>0.729952</td>\n",
       "      <td>8.480835</td>\n",
       "      <td>5.130763</td>\n",
       "      <td>14.359546</td>\n",
       "      <td>4.678202</td>\n",
       "      <td>42.048117</td>\n",
       "      <td>14.20456</td>\n",
       "    </tr>\n",
       "    <tr>\n",
       "      <th>min</th>\n",
       "      <td>9.211400e+04</td>\n",
       "      <td>0.000000</td>\n",
       "      <td>0.000000</td>\n",
       "      <td>0.000000</td>\n",
       "      <td>19.111400</td>\n",
       "      <td>-171.429000</td>\n",
       "      <td>1.000000</td>\n",
       "      <td>1.000000</td>\n",
       "      <td>1.00000</td>\n",
       "    </tr>\n",
       "    <tr>\n",
       "      <th>25%</th>\n",
       "      <td>3.085450e+05</td>\n",
       "      <td>0.000000</td>\n",
       "      <td>0.000000</td>\n",
       "      <td>2.000000</td>\n",
       "      <td>33.903400</td>\n",
       "      <td>-94.158725</td>\n",
       "      <td>1.000000</td>\n",
       "      <td>21.000000</td>\n",
       "      <td>9.00000</td>\n",
       "    </tr>\n",
       "    <tr>\n",
       "      <th>50%</th>\n",
       "      <td>5.435870e+05</td>\n",
       "      <td>0.000000</td>\n",
       "      <td>0.000000</td>\n",
       "      <td>5.000000</td>\n",
       "      <td>38.570600</td>\n",
       "      <td>-86.249600</td>\n",
       "      <td>1.000000</td>\n",
       "      <td>47.000000</td>\n",
       "      <td>19.00000</td>\n",
       "    </tr>\n",
       "    <tr>\n",
       "      <th>75%</th>\n",
       "      <td>8.172280e+05</td>\n",
       "      <td>0.000000</td>\n",
       "      <td>1.000000</td>\n",
       "      <td>10.000000</td>\n",
       "      <td>41.437375</td>\n",
       "      <td>-80.048625</td>\n",
       "      <td>1.000000</td>\n",
       "      <td>84.000000</td>\n",
       "      <td>30.00000</td>\n",
       "    </tr>\n",
       "    <tr>\n",
       "      <th>max</th>\n",
       "      <td>1.083472e+06</td>\n",
       "      <td>50.000000</td>\n",
       "      <td>53.000000</td>\n",
       "      <td>53.000000</td>\n",
       "      <td>71.336800</td>\n",
       "      <td>97.433100</td>\n",
       "      <td>400.000000</td>\n",
       "      <td>901.000000</td>\n",
       "      <td>94.00000</td>\n",
       "    </tr>\n",
       "  </tbody>\n",
       "</table>\n",
       "</div>"
      ],
      "text/plain": [
       "        incident_id       n_killed      n_injured  congressional_district  \\\n",
       "count  2.396770e+05  239677.000000  239677.000000           227733.000000   \n",
       "mean   5.593343e+05       0.252290       0.494007                8.001265   \n",
       "std    2.931287e+05       0.521779       0.729952                8.480835   \n",
       "min    9.211400e+04       0.000000       0.000000                0.000000   \n",
       "25%    3.085450e+05       0.000000       0.000000                2.000000   \n",
       "50%    5.435870e+05       0.000000       0.000000                5.000000   \n",
       "75%    8.172280e+05       0.000000       1.000000               10.000000   \n",
       "max    1.083472e+06      50.000000      53.000000               53.000000   \n",
       "\n",
       "            latitude      longitude  n_guns_involved  state_house_district  \\\n",
       "count  231754.000000  231754.000000    140226.000000         200905.000000   \n",
       "mean       37.546598     -89.338348         1.372442             55.447132   \n",
       "std         5.130763      14.359546         4.678202             42.048117   \n",
       "min        19.111400    -171.429000         1.000000              1.000000   \n",
       "25%        33.903400     -94.158725         1.000000             21.000000   \n",
       "50%        38.570600     -86.249600         1.000000             47.000000   \n",
       "75%        41.437375     -80.048625         1.000000             84.000000   \n",
       "max        71.336800      97.433100       400.000000            901.000000   \n",
       "\n",
       "       state_senate_district  \n",
       "count           207342.00000  \n",
       "mean                20.47711  \n",
       "std                 14.20456  \n",
       "min                  1.00000  \n",
       "25%                  9.00000  \n",
       "50%                 19.00000  \n",
       "75%                 30.00000  \n",
       "max                 94.00000  "
      ]
     },
     "execution_count": 11,
     "metadata": {},
     "output_type": "execute_result"
    }
   ],
   "source": [
    "df.describe()"
   ]
  },
  {
   "cell_type": "code",
   "execution_count": 13,
   "id": "7ead5675-fff2-496c-b32d-0ef526a376ac",
   "metadata": {},
   "outputs": [],
   "source": [
    "# Verifying any missing values\n",
    "missing = df.isnull().sum()"
   ]
  },
  {
   "cell_type": "code",
   "execution_count": 15,
   "id": "1f74f4a3-01cd-43fa-beca-5c1e5b0a3a3a",
   "metadata": {},
   "outputs": [
    {
     "data": {
      "text/plain": [
       "incident_id                         0\n",
       "date                                0\n",
       "state                               0\n",
       "city_or_county                      0\n",
       "address                         16497\n",
       "n_killed                            0\n",
       "n_injured                           0\n",
       "incident_url                        0\n",
       "source_url                        468\n",
       "incident_url_fields_missing         0\n",
       "congressional_district          11944\n",
       "gun_stolen                      99498\n",
       "gun_type                        99451\n",
       "incident_characteristics          326\n",
       "latitude                         7923\n",
       "location_description           197588\n",
       "longitude                        7923\n",
       "n_guns_involved                 99451\n",
       "notes                           81017\n",
       "participant_age                 92298\n",
       "participant_age_group           42119\n",
       "participant_gender              36362\n",
       "participant_name               122253\n",
       "participant_relationship       223903\n",
       "participant_status              27626\n",
       "participant_type                24863\n",
       "sources                           609\n",
       "state_house_district            38772\n",
       "state_senate_district           32335\n",
       "dtype: int64"
      ]
     },
     "execution_count": 15,
     "metadata": {},
     "output_type": "execute_result"
    }
   ],
   "source": [
    "missing"
   ]
  },
  {
   "cell_type": "code",
   "execution_count": 17,
   "id": "2ccdb3a0-11b2-4e53-839e-2ee65d842afe",
   "metadata": {},
   "outputs": [],
   "source": [
    "# Dropping columns where missing value count is above 10,000 entries\n",
    "Cleaned_df = df.drop(columns = ['participant_relationship', 'location_description', 'participant_name'])"
   ]
  },
  {
   "cell_type": "code",
   "execution_count": 23,
   "id": "49b44a22-20f3-4d09-80de-c60789ca116d",
   "metadata": {},
   "outputs": [],
   "source": [
    "# Fill missing values for categorical data with \"Unknown\"\n",
    "categorical_fill = ['gun_stolen', 'gun_type', 'participant_age_group', 'participant_gender']\n",
    "for col in categorical_fill:\n",
    "    Cleaned_df[col] = Cleaned_df[col].fillna('Unknown')"
   ]
  },
  {
   "cell_type": "code",
   "execution_count": 27,
   "id": "82781172-505c-45a2-bbf2-1855bacb15de",
   "metadata": {},
   "outputs": [],
   "source": [
    "# Fill missing numerical data with the median\n",
    "numerical_fill = ['latitude', 'longitude', 'n_guns_involved']\n",
    "for col in numerical_fill:\n",
    "    Cleaned_df[col] = Cleaned_df[col].fillna(Cleaned_df[col].median())"
   ]
  },
  {
   "cell_type": "code",
   "execution_count": 29,
   "id": "fa6a2ef6-cf3f-449b-a1ac-8a4481d4df76",
   "metadata": {},
   "outputs": [
    {
     "data": {
      "text/plain": [
       "incident_id                        0\n",
       "date                               0\n",
       "state                              0\n",
       "city_or_county                     0\n",
       "address                        16497\n",
       "n_killed                           0\n",
       "n_injured                          0\n",
       "incident_url                       0\n",
       "source_url                       468\n",
       "incident_url_fields_missing        0\n",
       "congressional_district         11944\n",
       "gun_stolen                         0\n",
       "gun_type                           0\n",
       "incident_characteristics         326\n",
       "latitude                           0\n",
       "longitude                          0\n",
       "n_guns_involved                    0\n",
       "notes                          81017\n",
       "participant_age                92298\n",
       "participant_age_group              0\n",
       "participant_gender                 0\n",
       "participant_status             27626\n",
       "participant_type               24863\n",
       "sources                          609\n",
       "state_house_district           38772\n",
       "state_senate_district          32335\n",
       "dtype: int64"
      ]
     },
     "execution_count": 29,
     "metadata": {},
     "output_type": "execute_result"
    }
   ],
   "source": [
    "# Verify the imputation\n",
    "Cleaned_df.isnull().sum()"
   ]
  },
  {
   "cell_type": "code",
   "execution_count": 31,
   "id": "66474c5e-5ace-4566-b1a2-c9f0fc72f7b4",
   "metadata": {},
   "outputs": [
    {
     "data": {
      "text/html": [
       "<div>\n",
       "<style scoped>\n",
       "    .dataframe tbody tr th:only-of-type {\n",
       "        vertical-align: middle;\n",
       "    }\n",
       "\n",
       "    .dataframe tbody tr th {\n",
       "        vertical-align: top;\n",
       "    }\n",
       "\n",
       "    .dataframe thead th {\n",
       "        text-align: right;\n",
       "    }\n",
       "</style>\n",
       "<table border=\"1\" class=\"dataframe\">\n",
       "  <thead>\n",
       "    <tr style=\"text-align: right;\">\n",
       "      <th></th>\n",
       "      <th>incident_id</th>\n",
       "      <th>date</th>\n",
       "      <th>state</th>\n",
       "      <th>city_or_county</th>\n",
       "      <th>address</th>\n",
       "      <th>n_killed</th>\n",
       "      <th>n_injured</th>\n",
       "      <th>incident_url</th>\n",
       "      <th>source_url</th>\n",
       "      <th>incident_url_fields_missing</th>\n",
       "      <th>...</th>\n",
       "      <th>n_guns_involved</th>\n",
       "      <th>notes</th>\n",
       "      <th>participant_age</th>\n",
       "      <th>participant_age_group</th>\n",
       "      <th>participant_gender</th>\n",
       "      <th>participant_status</th>\n",
       "      <th>participant_type</th>\n",
       "      <th>sources</th>\n",
       "      <th>state_house_district</th>\n",
       "      <th>state_senate_district</th>\n",
       "    </tr>\n",
       "  </thead>\n",
       "  <tbody>\n",
       "    <tr>\n",
       "      <th>0</th>\n",
       "      <td>461105</td>\n",
       "      <td>2013-01-01</td>\n",
       "      <td>Pennsylvania</td>\n",
       "      <td>Mckeesport</td>\n",
       "      <td>1506 Versailles Avenue and Coursin Street</td>\n",
       "      <td>0</td>\n",
       "      <td>4</td>\n",
       "      <td>http://www.gunviolencearchive.org/incident/461105</td>\n",
       "      <td>http://www.post-gazette.com/local/south/2013/0...</td>\n",
       "      <td>False</td>\n",
       "      <td>...</td>\n",
       "      <td>1.0</td>\n",
       "      <td>Julian Sims under investigation: Four Shot and...</td>\n",
       "      <td>0::20</td>\n",
       "      <td>0::Adult 18+||1::Adult 18+||2::Adult 18+||3::A...</td>\n",
       "      <td>0::Male||1::Male||3::Male||4::Female</td>\n",
       "      <td>0::Arrested||1::Injured||2::Injured||3::Injure...</td>\n",
       "      <td>0::Victim||1::Victim||2::Victim||3::Victim||4:...</td>\n",
       "      <td>http://pittsburgh.cbslocal.com/2013/01/01/4-pe...</td>\n",
       "      <td>NaN</td>\n",
       "      <td>NaN</td>\n",
       "    </tr>\n",
       "    <tr>\n",
       "      <th>1</th>\n",
       "      <td>460726</td>\n",
       "      <td>2013-01-01</td>\n",
       "      <td>California</td>\n",
       "      <td>Hawthorne</td>\n",
       "      <td>13500 block of Cerise Avenue</td>\n",
       "      <td>1</td>\n",
       "      <td>3</td>\n",
       "      <td>http://www.gunviolencearchive.org/incident/460726</td>\n",
       "      <td>http://www.dailybulletin.com/article/zz/201301...</td>\n",
       "      <td>False</td>\n",
       "      <td>...</td>\n",
       "      <td>1.0</td>\n",
       "      <td>Four Shot; One Killed; Unidentified shooter in...</td>\n",
       "      <td>0::20</td>\n",
       "      <td>0::Adult 18+||1::Adult 18+||2::Adult 18+||3::A...</td>\n",
       "      <td>0::Male</td>\n",
       "      <td>0::Killed||1::Injured||2::Injured||3::Injured</td>\n",
       "      <td>0::Victim||1::Victim||2::Victim||3::Victim||4:...</td>\n",
       "      <td>http://losangeles.cbslocal.com/2013/01/01/man-...</td>\n",
       "      <td>62.0</td>\n",
       "      <td>35.0</td>\n",
       "    </tr>\n",
       "    <tr>\n",
       "      <th>2</th>\n",
       "      <td>478855</td>\n",
       "      <td>2013-01-01</td>\n",
       "      <td>Ohio</td>\n",
       "      <td>Lorain</td>\n",
       "      <td>1776 East 28th Street</td>\n",
       "      <td>1</td>\n",
       "      <td>3</td>\n",
       "      <td>http://www.gunviolencearchive.org/incident/478855</td>\n",
       "      <td>http://chronicle.northcoastnow.com/2013/02/14/...</td>\n",
       "      <td>False</td>\n",
       "      <td>...</td>\n",
       "      <td>2.0</td>\n",
       "      <td>NaN</td>\n",
       "      <td>0::25||1::31||2::33||3::34||4::33</td>\n",
       "      <td>0::Adult 18+||1::Adult 18+||2::Adult 18+||3::A...</td>\n",
       "      <td>0::Male||1::Male||2::Male||3::Male||4::Male</td>\n",
       "      <td>0::Injured, Unharmed, Arrested||1::Unharmed, A...</td>\n",
       "      <td>0::Subject-Suspect||1::Subject-Suspect||2::Vic...</td>\n",
       "      <td>http://www.morningjournal.com/general-news/201...</td>\n",
       "      <td>56.0</td>\n",
       "      <td>13.0</td>\n",
       "    </tr>\n",
       "    <tr>\n",
       "      <th>3</th>\n",
       "      <td>478925</td>\n",
       "      <td>2013-01-05</td>\n",
       "      <td>Colorado</td>\n",
       "      <td>Aurora</td>\n",
       "      <td>16000 block of East Ithaca Place</td>\n",
       "      <td>4</td>\n",
       "      <td>0</td>\n",
       "      <td>http://www.gunviolencearchive.org/incident/478925</td>\n",
       "      <td>http://www.dailydemocrat.com/20130106/aurora-s...</td>\n",
       "      <td>False</td>\n",
       "      <td>...</td>\n",
       "      <td>1.0</td>\n",
       "      <td>NaN</td>\n",
       "      <td>0::29||1::33||2::56||3::33</td>\n",
       "      <td>0::Adult 18+||1::Adult 18+||2::Adult 18+||3::A...</td>\n",
       "      <td>0::Female||1::Male||2::Male||3::Male</td>\n",
       "      <td>0::Killed||1::Killed||2::Killed||3::Killed</td>\n",
       "      <td>0::Victim||1::Victim||2::Victim||3::Subject-Su...</td>\n",
       "      <td>http://denver.cbslocal.com/2013/01/06/officer-...</td>\n",
       "      <td>40.0</td>\n",
       "      <td>28.0</td>\n",
       "    </tr>\n",
       "    <tr>\n",
       "      <th>4</th>\n",
       "      <td>478959</td>\n",
       "      <td>2013-01-07</td>\n",
       "      <td>North Carolina</td>\n",
       "      <td>Greensboro</td>\n",
       "      <td>307 Mourning Dove Terrace</td>\n",
       "      <td>2</td>\n",
       "      <td>2</td>\n",
       "      <td>http://www.gunviolencearchive.org/incident/478959</td>\n",
       "      <td>http://www.journalnow.com/news/local/article_d...</td>\n",
       "      <td>False</td>\n",
       "      <td>...</td>\n",
       "      <td>2.0</td>\n",
       "      <td>Two firearms recovered. (Attempted) murder sui...</td>\n",
       "      <td>0::18||1::46||2::14||3::47</td>\n",
       "      <td>0::Adult 18+||1::Adult 18+||2::Teen 12-17||3::...</td>\n",
       "      <td>0::Female||1::Male||2::Male||3::Female</td>\n",
       "      <td>0::Injured||1::Injured||2::Killed||3::Killed</td>\n",
       "      <td>0::Victim||1::Victim||2::Victim||3::Subject-Su...</td>\n",
       "      <td>http://myfox8.com/2013/01/08/update-mother-sho...</td>\n",
       "      <td>62.0</td>\n",
       "      <td>27.0</td>\n",
       "    </tr>\n",
       "  </tbody>\n",
       "</table>\n",
       "<p>5 rows × 26 columns</p>\n",
       "</div>"
      ],
      "text/plain": [
       "   incident_id        date           state city_or_county  \\\n",
       "0       461105  2013-01-01    Pennsylvania     Mckeesport   \n",
       "1       460726  2013-01-01      California      Hawthorne   \n",
       "2       478855  2013-01-01            Ohio         Lorain   \n",
       "3       478925  2013-01-05        Colorado         Aurora   \n",
       "4       478959  2013-01-07  North Carolina     Greensboro   \n",
       "\n",
       "                                     address  n_killed  n_injured  \\\n",
       "0  1506 Versailles Avenue and Coursin Street         0          4   \n",
       "1               13500 block of Cerise Avenue         1          3   \n",
       "2                      1776 East 28th Street         1          3   \n",
       "3           16000 block of East Ithaca Place         4          0   \n",
       "4                  307 Mourning Dove Terrace         2          2   \n",
       "\n",
       "                                        incident_url  \\\n",
       "0  http://www.gunviolencearchive.org/incident/461105   \n",
       "1  http://www.gunviolencearchive.org/incident/460726   \n",
       "2  http://www.gunviolencearchive.org/incident/478855   \n",
       "3  http://www.gunviolencearchive.org/incident/478925   \n",
       "4  http://www.gunviolencearchive.org/incident/478959   \n",
       "\n",
       "                                          source_url  \\\n",
       "0  http://www.post-gazette.com/local/south/2013/0...   \n",
       "1  http://www.dailybulletin.com/article/zz/201301...   \n",
       "2  http://chronicle.northcoastnow.com/2013/02/14/...   \n",
       "3  http://www.dailydemocrat.com/20130106/aurora-s...   \n",
       "4  http://www.journalnow.com/news/local/article_d...   \n",
       "\n",
       "   incident_url_fields_missing  ...  n_guns_involved  \\\n",
       "0                        False  ...              1.0   \n",
       "1                        False  ...              1.0   \n",
       "2                        False  ...              2.0   \n",
       "3                        False  ...              1.0   \n",
       "4                        False  ...              2.0   \n",
       "\n",
       "                                               notes  \\\n",
       "0  Julian Sims under investigation: Four Shot and...   \n",
       "1  Four Shot; One Killed; Unidentified shooter in...   \n",
       "2                                                NaN   \n",
       "3                                                NaN   \n",
       "4  Two firearms recovered. (Attempted) murder sui...   \n",
       "\n",
       "                     participant_age  \\\n",
       "0                              0::20   \n",
       "1                              0::20   \n",
       "2  0::25||1::31||2::33||3::34||4::33   \n",
       "3         0::29||1::33||2::56||3::33   \n",
       "4         0::18||1::46||2::14||3::47   \n",
       "\n",
       "                               participant_age_group  \\\n",
       "0  0::Adult 18+||1::Adult 18+||2::Adult 18+||3::A...   \n",
       "1  0::Adult 18+||1::Adult 18+||2::Adult 18+||3::A...   \n",
       "2  0::Adult 18+||1::Adult 18+||2::Adult 18+||3::A...   \n",
       "3  0::Adult 18+||1::Adult 18+||2::Adult 18+||3::A...   \n",
       "4  0::Adult 18+||1::Adult 18+||2::Teen 12-17||3::...   \n",
       "\n",
       "                            participant_gender  \\\n",
       "0         0::Male||1::Male||3::Male||4::Female   \n",
       "1                                      0::Male   \n",
       "2  0::Male||1::Male||2::Male||3::Male||4::Male   \n",
       "3         0::Female||1::Male||2::Male||3::Male   \n",
       "4       0::Female||1::Male||2::Male||3::Female   \n",
       "\n",
       "                                  participant_status  \\\n",
       "0  0::Arrested||1::Injured||2::Injured||3::Injure...   \n",
       "1      0::Killed||1::Injured||2::Injured||3::Injured   \n",
       "2  0::Injured, Unharmed, Arrested||1::Unharmed, A...   \n",
       "3         0::Killed||1::Killed||2::Killed||3::Killed   \n",
       "4       0::Injured||1::Injured||2::Killed||3::Killed   \n",
       "\n",
       "                                    participant_type  \\\n",
       "0  0::Victim||1::Victim||2::Victim||3::Victim||4:...   \n",
       "1  0::Victim||1::Victim||2::Victim||3::Victim||4:...   \n",
       "2  0::Subject-Suspect||1::Subject-Suspect||2::Vic...   \n",
       "3  0::Victim||1::Victim||2::Victim||3::Subject-Su...   \n",
       "4  0::Victim||1::Victim||2::Victim||3::Subject-Su...   \n",
       "\n",
       "                                             sources state_house_district  \\\n",
       "0  http://pittsburgh.cbslocal.com/2013/01/01/4-pe...                  NaN   \n",
       "1  http://losangeles.cbslocal.com/2013/01/01/man-...                 62.0   \n",
       "2  http://www.morningjournal.com/general-news/201...                 56.0   \n",
       "3  http://denver.cbslocal.com/2013/01/06/officer-...                 40.0   \n",
       "4  http://myfox8.com/2013/01/08/update-mother-sho...                 62.0   \n",
       "\n",
       "  state_senate_district  \n",
       "0                   NaN  \n",
       "1                  35.0  \n",
       "2                  13.0  \n",
       "3                  28.0  \n",
       "4                  27.0  \n",
       "\n",
       "[5 rows x 26 columns]"
      ]
     },
     "execution_count": 31,
     "metadata": {},
     "output_type": "execute_result"
    }
   ],
   "source": [
    "Cleaned_df.head()"
   ]
  },
  {
   "cell_type": "code",
   "execution_count": 33,
   "id": "041ddd7b-d819-4dff-9a52-b14ae2a9da6d",
   "metadata": {},
   "outputs": [],
   "source": [
    "# Convert the 'date' column to datetime format\n",
    "Cleaned_df['date'] = pd.to_datetime(Cleaned_df['date'])"
   ]
  },
  {
   "cell_type": "code",
   "execution_count": 35,
   "id": "66fb63a8-8276-4858-bebb-ca3a69189ddf",
   "metadata": {},
   "outputs": [
    {
     "data": {
      "text/plain": [
       "0   2013-01-01\n",
       "1   2013-01-01\n",
       "2   2013-01-01\n",
       "3   2013-01-05\n",
       "4   2013-01-07\n",
       "Name: date, dtype: datetime64[ns]"
      ]
     },
     "execution_count": 35,
     "metadata": {},
     "output_type": "execute_result"
    }
   ],
   "source": [
    "# Verify the results\n",
    "Cleaned_df['date'].head()"
   ]
  },
  {
   "cell_type": "markdown",
   "id": "73c6eaa5-12ad-4b76-9f06-2ae2fad71aeb",
   "metadata": {},
   "source": [
    "This step changed the datatype for the date column from object to datetime format"
   ]
  },
  {
   "cell_type": "code",
   "execution_count": 38,
   "id": "1cc5bb0f-0ad7-4e7e-864e-065f1adcc640",
   "metadata": {},
   "outputs": [],
   "source": [
    "# Fill text columns with \"Unknown\"\n",
    "text_columns = ['address', 'source_url', 'incident_characteristics', 'notes', 'participant_status', 'participant_type']\n",
    "for col in text_columns:\n",
    "    Cleaned_df[col] = Cleaned_df[col].fillna('Unknown')"
   ]
  },
  {
   "cell_type": "code",
   "execution_count": 40,
   "id": "c1216ced-4f76-4cff-9d35-2a3924a11059",
   "metadata": {},
   "outputs": [],
   "source": [
    "# Fill numerical columns with -1 as a placeholder\n",
    "numerical_columns = ['congressional_district', 'state_house_district', 'state_senate_district']\n",
    "for col in numerical_columns:\n",
    "    Cleaned_df[col] = Cleaned_df[col].fillna(-1)"
   ]
  },
  {
   "cell_type": "code",
   "execution_count": 42,
   "id": "7e0731e3-7dfe-44e7-ab51-ab5cae9e58a7",
   "metadata": {},
   "outputs": [
    {
     "data": {
      "text/plain": [
       "incident_id                        0\n",
       "date                               0\n",
       "state                              0\n",
       "city_or_county                     0\n",
       "address                            0\n",
       "n_killed                           0\n",
       "n_injured                          0\n",
       "incident_url                       0\n",
       "source_url                         0\n",
       "incident_url_fields_missing        0\n",
       "congressional_district             0\n",
       "gun_stolen                         0\n",
       "gun_type                           0\n",
       "incident_characteristics           0\n",
       "latitude                           0\n",
       "longitude                          0\n",
       "n_guns_involved                    0\n",
       "notes                              0\n",
       "participant_age                92298\n",
       "participant_age_group              0\n",
       "participant_gender                 0\n",
       "participant_status                 0\n",
       "participant_type                   0\n",
       "sources                          609\n",
       "state_house_district               0\n",
       "state_senate_district              0\n",
       "dtype: int64"
      ]
     },
     "execution_count": 42,
     "metadata": {},
     "output_type": "execute_result"
    }
   ],
   "source": [
    "# Verify the imputation\n",
    "Cleaned_df.isnull().sum()"
   ]
  },
  {
   "cell_type": "code",
   "execution_count": 44,
   "id": "97fd09b3-da10-4973-bf69-96a5d07f0dbb",
   "metadata": {},
   "outputs": [],
   "source": [
    "# Drop the 'participant_age' column(as the age entered is not in a simple numerical format)\n",
    "Cleaned_df = Cleaned_df.drop(columns=['participant_age'])"
   ]
  },
  {
   "cell_type": "code",
   "execution_count": 46,
   "id": "470282da-85b6-4bca-8ffe-719f82961630",
   "metadata": {},
   "outputs": [],
   "source": [
    "# Fill missing values in 'sources' with 'Unknown'\n",
    "Cleaned_df['sources'] = Cleaned_df['sources'].fillna('Unknown')"
   ]
  },
  {
   "cell_type": "code",
   "execution_count": 48,
   "id": "7a6137e5-0606-457b-b580-286af9727750",
   "metadata": {},
   "outputs": [
    {
     "data": {
      "text/plain": [
       "incident_id                    0\n",
       "date                           0\n",
       "state                          0\n",
       "city_or_county                 0\n",
       "address                        0\n",
       "n_killed                       0\n",
       "n_injured                      0\n",
       "incident_url                   0\n",
       "source_url                     0\n",
       "incident_url_fields_missing    0\n",
       "congressional_district         0\n",
       "gun_stolen                     0\n",
       "gun_type                       0\n",
       "incident_characteristics       0\n",
       "latitude                       0\n",
       "longitude                      0\n",
       "n_guns_involved                0\n",
       "notes                          0\n",
       "participant_age_group          0\n",
       "participant_gender             0\n",
       "participant_status             0\n",
       "participant_type               0\n",
       "sources                        0\n",
       "state_house_district           0\n",
       "state_senate_district          0\n",
       "dtype: int64"
      ]
     },
     "execution_count": 48,
     "metadata": {},
     "output_type": "execute_result"
    }
   ],
   "source": [
    "# Verify if any missing values are left.\n",
    "Cleaned_df.isnull().sum()"
   ]
  },
  {
   "cell_type": "code",
   "execution_count": 50,
   "id": "1db339d6-3f54-4727-a2c2-dd36cfe4383b",
   "metadata": {},
   "outputs": [
    {
     "data": {
      "text/plain": [
       "Index(['incident_id', 'date', 'state', 'city_or_county', 'address', 'n_killed',\n",
       "       'n_injured', 'incident_url', 'source_url',\n",
       "       'incident_url_fields_missing', 'congressional_district', 'gun_stolen',\n",
       "       'gun_type', 'incident_characteristics', 'latitude', 'longitude',\n",
       "       'n_guns_involved', 'notes', 'participant_age_group',\n",
       "       'participant_gender', 'participant_status', 'participant_type',\n",
       "       'sources', 'state_house_district', 'state_senate_district'],\n",
       "      dtype='object')"
      ]
     },
     "execution_count": 50,
     "metadata": {},
     "output_type": "execute_result"
    }
   ],
   "source": [
    "# The final set of columns\n",
    "Cleaned_df.columns"
   ]
  },
  {
   "cell_type": "code",
   "execution_count": 52,
   "id": "777135fa-5f10-44de-85aa-f54e03b764ae",
   "metadata": {},
   "outputs": [
    {
     "data": {
      "text/plain": [
       "(239677, 25)"
      ]
     },
     "execution_count": 52,
     "metadata": {},
     "output_type": "execute_result"
    }
   ],
   "source": [
    "Cleaned_df.shape"
   ]
  },
  {
   "cell_type": "code",
   "execution_count": 54,
   "id": "954d9e8a-e72f-4bfe-8a5c-d90a1d0874cb",
   "metadata": {},
   "outputs": [],
   "source": [
    "# Export the cleaned dataframe\n",
    "Cleaned_df.to_csv(os.path.join(path, '02 Data', 'Prepared Data', 'Gun_Violence_Clean_Data(2013-2018).csv'))"
   ]
  },
  {
   "cell_type": "code",
   "execution_count": null,
   "id": "29e12737-23b3-4834-ab7a-16252d449cdf",
   "metadata": {},
   "outputs": [],
   "source": []
  }
 ],
 "metadata": {
  "kernelspec": {
   "display_name": "Python [conda env:base] *",
   "language": "python",
   "name": "conda-base-py"
  },
  "language_info": {
   "codemirror_mode": {
    "name": "ipython",
    "version": 3
   },
   "file_extension": ".py",
   "mimetype": "text/x-python",
   "name": "python",
   "nbconvert_exporter": "python",
   "pygments_lexer": "ipython3",
   "version": "3.12.7"
  }
 },
 "nbformat": 4,
 "nbformat_minor": 5
}
